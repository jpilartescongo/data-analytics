Name: J Pilartes-Congo

Date: Feb 13, 2024

Purpose: Working with grid and point data to infer meaningful information

All information pertinent to this assignment is available on [this Google Drive link](https://drive.google.com/drive/folders/1SixYEzemQX0KSUDfQbqh2wHSBnK7VXQu?usp=sharing)

